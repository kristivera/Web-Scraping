{
 "cells": [
  {
   "cell_type": "code",
   "execution_count": 2,
   "metadata": {},
   "outputs": [],
   "source": [
    "import requests\n",
    "import pandas as pd\n",
    "from bs4 import BeautifulSoup\n",
    "import selenium\n",
    "from selenium import webdriver\n",
    "from selenium.webdriver.chrome.options import Options"
   ]
  },
  {
   "cell_type": "code",
   "execution_count": 3,
   "metadata": {},
   "outputs": [],
   "source": [
    "url = \"https://faa.dbesystem.com/FrontEnd/ProposalSearchPublic.asp?TN=faa&XID=2038\""
   ]
  },
  {
   "cell_type": "code",
   "execution_count": 4,
   "metadata": {},
   "outputs": [],
   "source": [
    "response = requests.get(url)"
   ]
  },
  {
   "cell_type": "code",
   "execution_count": 5,
   "metadata": {},
   "outputs": [
    {
     "name": "stdout",
     "output_type": "stream",
     "text": [
      " request successful\n"
     ]
    }
   ],
   "source": [
    "if response.status_code == 200:\n",
    "  print(\" request successful\")\n",
    "else:\n",
    "  print(\" request failed with status code:\", response.status_code)"
   ]
  },
  {
   "cell_type": "code",
   "execution_count": 6,
   "metadata": {},
   "outputs": [],
   "source": [
    "soup = BeautifulSoup(response.text, \"html.parser\")"
   ]
  },
  {
   "cell_type": "code",
   "execution_count": 7,
   "metadata": {},
   "outputs": [
    {
     "name": "stdout",
     "output_type": "stream",
     "text": [
      "Number of Due Soon Opportunities: 12\n",
      "Number of Open Opportunities: 33\n",
      "Number of Total Opportunities: 45\n"
     ]
    }
   ],
   "source": [
    "status_list = soup.find_all(\"div\", class_=\"Status\")\n",
    "\n",
    "count_red = 0\n",
    "count_green = 0\n",
    "\n",
    "for status in status_list:\n",
    "    if \"background: red;\" in status[\"style\"]:\n",
    "        count_red += 1\n",
    "    elif \"background: green;\" in status[\"style\"]:\n",
    "        count_green += 1\n",
    "\n",
    "ctotal = count_red + count_green\n",
    "\n",
    "print(\"Number of Due Soon Opportunities:\", count_red)\n",
    "print(\"Number of Open Opportunities:\", count_green)\n",
    "print(\"Number of Total Opportunities:\", ctotal)"
   ]
  }
 ],
 "metadata": {
  "kernelspec": {
   "display_name": "Python 3",
   "language": "python",
   "name": "python3"
  },
  "language_info": {
   "codemirror_mode": {
    "name": "ipython",
    "version": 3
   },
   "file_extension": ".py",
   "mimetype": "text/x-python",
   "name": "python",
   "nbconvert_exporter": "python",
   "pygments_lexer": "ipython3",
   "version": "3.10.6"
  },
  "orig_nbformat": 4,
  "vscode": {
   "interpreter": {
    "hash": "aee8b7b246df8f9039afb4144a1f6fd8d2ca17a180786b69acc140d282b71a49"
   }
  }
 },
 "nbformat": 4,
 "nbformat_minor": 2
}
