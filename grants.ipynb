{
 "cells": [
  {
   "cell_type": "code",
   "execution_count": 9,
   "metadata": {},
   "outputs": [],
   "source": [
    "import time \n",
    "from selenium import webdriver\n",
    "from bs4 import BeautifulSoup\n",
    "from selenium.webdriver.common.by import By\n",
    "from selenium.webdriver.support.ui import WebDriverWait\n",
    "from selenium.webdriver.support import expected_conditions as EC\n",
    "#import requests\n",
    "#import re\n"
   ]
  },
  {
   "cell_type": "code",
   "execution_count": 10,
   "metadata": {},
   "outputs": [],
   "source": [
    "url = \"https://www.grants.gov/custom/search.jsp\""
   ]
  },
  {
   "cell_type": "code",
   "execution_count": 11,
   "metadata": {},
   "outputs": [
    {
     "name": "stderr",
     "output_type": "stream",
     "text": [
      "/var/folders/c8/gqn4pxp93vd1f8793588bs7m0000gn/T/ipykernel_31778/3988402640.py:3: DeprecationWarning: executable_path has been deprecated, please pass in a Service object\n",
      "  driver = webdriver.Chrome(executable_path=driver_path)\n"
     ]
    }
   ],
   "source": [
    "driver_path = '/Users/Kristivera/Downloads/chromedriver' \n",
    "\n",
    "driver = webdriver.Chrome(executable_path=driver_path)\n",
    "\n",
    "driver.get(url)\n",
    "\n",
    "# Find the checkbox by ID and click it\n",
    "\n",
    "# 21 = Individual\n",
    "# 07 = Native American tribal governments (Federally recognized) \n",
    "# 11 = Native American tribal organizations (other than Federally recognized tribal governments)\n",
    "# 12 = Nonprofits having a 501(c)(3) status with the IRS, other than institutions of higher education\n",
    "# 13 = Nonprofits that do not have a 501(c)(3) status with the IRS, other than institutions of higher education \n",
    "\n",
    "element_ids = ['21', '08', '11', '12', '13']\n",
    "\n",
    "# Loop over the element IDs and click each element when it is clickable\n",
    "for element_id in element_ids:\n",
    "    WebDriverWait(driver, 15).until(EC.element_to_be_clickable((By.ID, element_id))).click()\n",
    "\n",
    "time.sleep(15)\n"
   ]
  },
  {
   "cell_type": "code",
   "execution_count": 12,
   "metadata": {},
   "outputs": [],
   "source": [
    "soup = BeautifulSoup(driver.page_source, 'html.parser')"
   ]
  },
  {
   "cell_type": "code",
   "execution_count": 13,
   "metadata": {},
   "outputs": [],
   "source": [
    "span_tags = soup.find_all('span', class_='gridtitle')\n"
   ]
  },
  {
   "cell_type": "code",
   "execution_count": 14,
   "metadata": {},
   "outputs": [
    {
     "name": "stdout",
     "output_type": "stream",
     "text": [
      "1 - 25 of 1412 Matching Results: \n"
     ]
    }
   ],
   "source": [
    "for span in span_tags:\n",
    "    span1 = span.text\n",
    "    print(span1)"
   ]
  },
  {
   "cell_type": "code",
   "execution_count": 15,
   "metadata": {},
   "outputs": [
    {
     "name": "stdout",
     "output_type": "stream",
     "text": [
      "1412\n"
     ]
    }
   ],
   "source": [
    "#span 1 prints: 1 - 25 of 1411 Matching Results: \n",
    "#Taking ONLY '1411'\n",
    "\n",
    "num_results = span1.split()[-3]\n",
    "\n",
    "num_results_int = int(num_results)\n",
    "\n",
    "\n",
    "#Converting to INT for the database\n",
    "\n",
    "type(num_results_int)\n",
    "\n",
    "print(num_results_int)"
   ]
  }
 ],
 "metadata": {
  "kernelspec": {
   "display_name": "Python 3",
   "language": "python",
   "name": "python3"
  },
  "language_info": {
   "codemirror_mode": {
    "name": "ipython",
    "version": 3
   },
   "file_extension": ".py",
   "mimetype": "text/x-python",
   "name": "python",
   "nbconvert_exporter": "python",
   "pygments_lexer": "ipython3",
   "version": "3.10.6"
  },
  "orig_nbformat": 4,
  "vscode": {
   "interpreter": {
    "hash": "aee8b7b246df8f9039afb4144a1f6fd8d2ca17a180786b69acc140d282b71a49"
   }
  }
 },
 "nbformat": 4,
 "nbformat_minor": 2
}
